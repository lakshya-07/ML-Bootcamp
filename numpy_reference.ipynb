{
 "cells": [
  {
   "cell_type": "markdown",
   "metadata": {},
   "source": [
    "# Numpy"
   ]
  },
  {
   "cell_type": "code",
   "execution_count": 112,
   "metadata": {},
   "outputs": [
    {
     "data": {
      "text/plain": [
       "'1.26.0'"
      ]
     },
     "execution_count": 112,
     "metadata": {},
     "output_type": "execute_result"
    }
   ],
   "source": [
    "#Check version of numpy library\n",
    "import numpy\n",
    "numpy.__version__"
   ]
  },
  {
   "cell_type": "code",
   "execution_count": 113,
   "metadata": {},
   "outputs": [],
   "source": [
    "#Importing numpy as an alias(short name)\n",
    "import numpy as np #alias in python is similar to calling someone with a nickname"
   ]
  },
  {
   "cell_type": "code",
   "execution_count": 114,
   "metadata": {},
   "outputs": [
    {
     "data": {
      "text/plain": [
       "array([0, 0, 0, 0, 0])"
      ]
     },
     "execution_count": 114,
     "metadata": {},
     "output_type": "execute_result"
    }
   ],
   "source": [
    "#np.zeros() creates an array of 0s of specific length \n",
    "#here we create a zeros array of length 5\n",
    "zeros_array=np.zeros(5,dtype=\"int\") \n",
    "zeros_array"
   ]
  },
  {
   "cell_type": "code",
   "execution_count": 115,
   "metadata": {},
   "outputs": [
    {
     "data": {
      "text/plain": [
       "array([1, 1, 1, 1, 1])"
      ]
     },
     "execution_count": 115,
     "metadata": {},
     "output_type": "execute_result"
    }
   ],
   "source": [
    "#np.ones() creates an array of 1s of specific length \n",
    "#here we create a zeros array of length 5\n",
    "ones_array=np.ones(5,dtype=\"int\") \n",
    "ones_array"
   ]
  },
  {
   "cell_type": "code",
   "execution_count": 116,
   "metadata": {},
   "outputs": [
    {
     "data": {
      "text/plain": [
       "array([[5, 5, 5],\n",
       "       [5, 5, 5]])"
      ]
     },
     "execution_count": 116,
     "metadata": {},
     "output_type": "execute_result"
    }
   ],
   "source": [
    "#np.full() is used to create an array of given dimesnion with all elements having same \n",
    "#here we create a 2X3 array of just 5s\n",
    "five_array=np.full((2,3),5)\n",
    "five_array"
   ]
  },
  {
   "cell_type": "code",
   "execution_count": 117,
   "metadata": {},
   "outputs": [
    {
     "data": {
      "text/plain": [
       "array([ 2,  4,  6,  8, 10, 12, 14, 16, 18, 20])"
      ]
     },
     "execution_count": 117,
     "metadata": {},
     "output_type": "execute_result"
    }
   ],
   "source": [
    "#np.arange() gives an array in a linear sequence from starting value to ending value with a step value in between(if specified)\n",
    "#starting value is included and ending value is not included.\n",
    "#here we create a array from 0 to 20 with a step of 2\n",
    "two_tables=np.arange(2,22,2)\n",
    "two_tables"
   ]
  },
  {
   "cell_type": "code",
   "execution_count": 118,
   "metadata": {},
   "outputs": [
    {
     "data": {
      "text/plain": [
       "array([0.  , 0.25, 0.5 , 0.75, 1.  ])"
      ]
     },
     "execution_count": 118,
     "metadata": {},
     "output_type": "execute_result"
    }
   ],
   "source": [
    "#np.linspace() gives an evenly spaced array from a starting point to an ending point of a specific length\n",
    "#here we create a array of 8 elements from 0 to 2 that are evenly spaced\n",
    "evenly_spaced=np.linspace(0,1,5)\n",
    "evenly_spaced"
   ]
  },
  {
   "cell_type": "code",
   "execution_count": 119,
   "metadata": {},
   "outputs": [
    {
     "data": {
      "text/plain": [
       "array([[0.83796147, 0.72021726],\n",
       "       [0.24786748, 0.62464272]])"
      ]
     },
     "execution_count": 119,
     "metadata": {},
     "output_type": "execute_result"
    }
   ],
   "source": [
    "#np.random.random() is used to create an array of random values between 0 and 1(probabilities) of specific dimensions \n",
    "#creating a random_array of 2X2 dimensions with values between 0 and 1\n",
    "random_array=np.random.random((2,2))\n",
    "random_array"
   ]
  },
  {
   "cell_type": "code",
   "execution_count": 120,
   "metadata": {},
   "outputs": [
    {
     "data": {
      "text/plain": [
       "array([[9, 7, 6],\n",
       "       [1, 5, 9]])"
      ]
     },
     "execution_count": 120,
     "metadata": {},
     "output_type": "execute_result"
    }
   ],
   "source": [
    "#np.random.random() is used to create an array of random integer values between a given range of specific dimensions \n",
    "#creating a random array of integers between 0 and 10(9 is not included) of 2X3 dimensions \n",
    "random_single_digits_array=np.random.randint(0,10,(2,3))\n",
    "random_single_digits_array"
   ]
  },
  {
   "cell_type": "code",
   "execution_count": 121,
   "metadata": {},
   "outputs": [],
   "source": [
    "# List of cloud technologies in 2023\n",
    "cloud_2023 = ['Amazon Web Services (AWS)', 'Firebase', 'Cloudflare', 'Google Cloud','Digital Ocean',\n",
    "               'Heroku', 'Vercel', 'Netlify', 'VMware', 'Hetzner', 'Linode, now Akamai', 'Managed Hosting', 'OVH',\n",
    "               'Oracle Cloud Infrastructure (OCI)', 'OpenShift', 'Fly.io', 'Vultr', 'Render', 'OpenStack',\n",
    "               'IBM Cloud Or Watson', 'Scaleway', 'Colocation', 'Microsoft Azure']\n",
    "\n",
    "#list of all votes for each cloud platform\n",
    "votes_raw=[33818, 29479, 654, 1185,10761, 8550, 628, 486,10599, 8326, 420, 621,16592, 13304, 652, 866,\n",
    "9299, 7838, 247, 393,8358, 6535, 492, 418,7431, 5727, 487, 392,6228, 4708, 498, 330,4964, 3584, 262, 396,3069, 2465, 67, 184,\n",
    "2755, 2104, 125, 167,2379, 1889, 63, 137,2378, 1912, 76, 126,1810, 1146, 123, 190,1671, 1432, 22, 66,1649, 1342, 72, 79,1357, 1021, 55, 94,\n",
    "1287, 920, 132, 69,1076, 802, 53, 78,801, 571, 53, 70,628, 520, 0, 31,7, 385, 20, 30,18105, 15441, 370, 714]"
   ]
  },
  {
   "cell_type": "code",
   "execution_count": 122,
   "metadata": {},
   "outputs": [
    {
     "name": "stdout",
     "output_type": "stream",
     "text": [
      "Data type of data: <class 'list'>\n"
     ]
    }
   ],
   "source": [
    "#The first thing we should do is to convert the lists to numpy arrays.To convert python lists to numpy arrays we use np.array() method.\n",
    "print(\"Data type of data:\",type(cloud_2023))"
   ]
  },
  {
   "cell_type": "code",
   "execution_count": 123,
   "metadata": {},
   "outputs": [
    {
     "name": "stdout",
     "output_type": "stream",
     "text": [
      "['Amazon Web Services (AWS)' 'Firebase' 'Cloudflare' 'Google Cloud'\n",
      " 'Digital Ocean' 'Heroku' 'Vercel' 'Netlify' 'VMware' 'Hetzner'\n",
      " 'Linode, now Akamai' 'Managed Hosting' 'OVH'\n",
      " 'Oracle Cloud Infrastructure (OCI)' 'OpenShift' 'Fly.io' 'Vultr' 'Render'\n",
      " 'OpenStack' 'IBM Cloud Or Watson' 'Scaleway' 'Colocation'\n",
      " 'Microsoft Azure']\n",
      "[33818 29479   654  1185 10761  8550   628   486 10599  8326   420   621\n",
      " 16592 13304   652   866  9299  7838   247   393  8358  6535   492   418\n",
      "  7431  5727   487   392  6228  4708   498   330  4964  3584   262   396\n",
      "  3069  2465    67   184  2755  2104   125   167  2379  1889    63   137\n",
      "  2378  1912    76   126  1810  1146   123   190  1671  1432    22    66\n",
      "  1649  1342    72    79  1357  1021    55    94  1287   920   132    69\n",
      "  1076   802    53    78   801   571    53    70   628   520     0    31\n",
      "     7   385    20    30 18105 15441   370   714]\n"
     ]
    }
   ],
   "source": [
    "#Numpy array definitions \n",
    "import numpy as np\n",
    "cloud_2023_array=np.array(cloud_2023)\n",
    "votes_raw_array=np.array(votes_raw)\n",
    "print(cloud_2023_array)\n",
    "print(votes_raw_array)"
   ]
  },
  {
   "cell_type": "code",
   "execution_count": 124,
   "metadata": {},
   "outputs": [
    {
     "name": "stdout",
     "output_type": "stream",
     "text": [
      "Data type of list: <class 'numpy.ndarray'>\n",
      "Number of cloud services in 2023 survey: 23\n",
      "Shape of cloud 2023 array: (23,)\n",
      "Data type of each element of cloud 2023 array: <U33\n",
      "Data type of each element of total votes array: int32\n",
      "Number of dimesnions in cloud 2023 array: 1\n"
     ]
    }
   ],
   "source": [
    "#Numpy attributes\n",
    "print(\"Data type of list:\",type(cloud_2023_array))\n",
    "print(\"Number of cloud services in 2023 survey:\",cloud_2023_array.size)\n",
    "print(\"Shape of cloud 2023 array:\",cloud_2023_array.shape)\n",
    "print(\"Data type of each element of cloud 2023 array:\",cloud_2023_array.dtype)\n",
    "print(\"Data type of each element of total votes array:\",votes_raw_array.dtype)\n",
    "print(\"Number of dimesnions in cloud 2023 array:\",cloud_2023_array.ndim)"
   ]
  },
  {
   "cell_type": "code",
   "execution_count": 125,
   "metadata": {},
   "outputs": [
    {
     "name": "stdout",
     "output_type": "stream",
     "text": [
      "Data type of each element of other votes array: int16\n"
     ]
    }
   ],
   "source": [
    "#type casting from int32 to int16\n",
    "votes_raw_array_16bit_integer=np.array(votes_raw_array,dtype=np.int16)\n",
    "print(\"Data type of each element of other votes array:\",votes_raw_array_16bit_integer.dtype)"
   ]
  },
  {
   "cell_type": "code",
   "execution_count": 126,
   "metadata": {},
   "outputs": [
    {
     "data": {
      "text/plain": [
       "array([1, 0, 2, 9, 3, 1])"
      ]
     },
     "execution_count": 126,
     "metadata": {},
     "output_type": "execute_result"
    }
   ],
   "source": [
    "#upcasting\n",
    "#What happens if we put non float numbers in an integer array\n",
    "#if possible python will convert the values to the given dtype\n",
    "int32_array=np.array([1.6,0,2,9,3,True],dtype=\"int\")\n",
    "int32_array"
   ]
  },
  {
   "cell_type": "code",
   "execution_count": 151,
   "metadata": {},
   "outputs": [
    {
     "name": "stdout",
     "output_type": "stream",
     "text": [
      "(8,)\n",
      "[[33818 29479   654  1185]\n",
      " [18105 15441   370   714]]\n"
     ]
    }
   ],
   "source": [
    "#we need to reshape this massive singular array to a multi dimensional array\n",
    "test_array=np.array([33818,29479,654,1185,18105,15441,370,714])\n",
    "print(test_array.shape)\n",
    "reshaped_array=np.reshape(test_array,(2,4))#we want this format [[33818,29479,654,1185],[18105,15441,370,714]] which is 2 rows 4 columns\n",
    "print(reshaped_array)"
   ]
  },
  {
   "cell_type": "code",
   "execution_count": 152,
   "metadata": {},
   "outputs": [
    {
     "name": "stdout",
     "output_type": "stream",
     "text": [
      "[[33818 29479   654  1185]\n",
      " [10761  8550   628   486]\n",
      " [10599  8326   420   621]\n",
      " [16592 13304   652   866]\n",
      " [ 9299  7838   247   393]\n",
      " [ 8358  6535   492   418]\n",
      " [ 7431  5727   487   392]\n",
      " [ 6228  4708   498   330]\n",
      " [ 4964  3584   262   396]\n",
      " [ 3069  2465    67   184]\n",
      " [ 2755  2104   125   167]\n",
      " [ 2379  1889    63   137]\n",
      " [ 2378  1912    76   126]\n",
      " [ 1810  1146   123   190]\n",
      " [ 1671  1432    22    66]\n",
      " [ 1649  1342    72    79]\n",
      " [ 1357  1021    55    94]\n",
      " [ 1287   920   132    69]\n",
      " [ 1076   802    53    78]\n",
      " [  801   571    53    70]\n",
      " [  628   520     0    31]\n",
      " [    7   385    20    30]\n",
      " [18105 15441   370   714]]\n",
      "Shape of reshaped arrays: (23, 4)\n"
     ]
    }
   ],
   "source": [
    "#Reshaping the array to a more suitable format\n",
    "merged_votes_array=np.reshape(votes_raw_array,(len(votes_raw_array)//4,4))\n",
    "print(merged_votes_array)\n",
    "print(\"Shape of reshaped arrays:\",merged_votes_array.shape)"
   ]
  },
  {
   "cell_type": "code",
   "execution_count": 153,
   "metadata": {},
   "outputs": [
    {
     "name": "stdout",
     "output_type": "stream",
     "text": [
      "Data type of list: <class 'numpy.ndarray'>\n",
      "Number of voting groups in 2023 survey: 92\n",
      "Shape of merged_voting array: (23, 4)\n",
      "Data type of each element of technologies_2023 array: int32\n",
      "Number of dimesnions in technologies 2023 array: 2\n"
     ]
    }
   ],
   "source": [
    "import numpy as np\n",
    "print(\"Data type of list:\",type(merged_votes_array))\n",
    "print(\"Number of voting groups in 2023 survey:\",merged_votes_array.size)\n",
    "print(\"Shape of merged_voting array:\",merged_votes_array.shape)\n",
    "print(\"Data type of each element of technologies_2023 array:\",merged_votes_array.dtype)\n",
    "print(\"Number of dimesnions in technologies 2023 array:\",merged_votes_array.ndim)"
   ]
  },
  {
   "cell_type": "code",
   "execution_count": 154,
   "metadata": {},
   "outputs": [
    {
     "name": "stdout",
     "output_type": "stream",
     "text": [
      "Total votes array: [33818 10761 10599 16592  9299  8358  7431  6228  4964  3069  2755  2379\n",
      "  2378  1810  1671  1649  1357  1287  1076   801   628     7 18105]\n",
      "\n",
      "\n",
      "\n",
      "Professional votes array: [29479  8550  8326 13304  7838  6535  5727  4708  3584  2465  2104  1889\n",
      "  1912  1146  1432  1342  1021   920   802   571   520   385 15441]\n",
      "\n",
      "\n",
      "\n",
      "Beginner votes array: [654 628 420 652 247 492 487 498 262  67 125  63  76 123  22  72  55 132\n",
      "  53  53   0  20 370]\n",
      "\n",
      "\n",
      "\n",
      "Other votes array: [1185  486  621  866  393  418  392  330  396  184  167  137  126  190\n",
      "   66   79   94   69   78   70   31   30  714]\n"
     ]
    }
   ],
   "source": [
    "#splitting the merged votes array to seprate array of voters\n",
    "total_votes_array=merged_votes_array[:,0]\n",
    "professional_votes_array=merged_votes_array[:,1]\n",
    "beginner_votes_array=merged_votes_array[:, 2]\n",
    "other_votes_array=merged_votes_array[:, 3]\n",
    "print(\"Total votes array:\",total_votes_array)\n",
    "print(\"\\n\\n\")\n",
    "print(\"Professional votes array:\",professional_votes_array)\n",
    "print(\"\\n\\n\")\n",
    "print(\"Beginner votes array:\",beginner_votes_array)\n",
    "print(\"\\n\\n\")\n",
    "print(\"Other votes array:\",other_votes_array)"
   ]
  },
  {
   "cell_type": "code",
   "execution_count": 155,
   "metadata": {},
   "outputs": [
    {
     "name": "stdout",
     "output_type": "stream",
     "text": [
      "Cloud service: Firebase\n",
      "Total number of votes: 10761\n",
      "Professional programmers votes: 8550\n",
      "Beginner programmers votes: 628\n",
      "other programmers votes: 486\n"
     ]
    }
   ],
   "source": [
    "#Corresponding vote values for a cloud service\n",
    "print(\"Cloud service:\",cloud_2023_array[1])\n",
    "print(\"Total number of votes:\",total_votes_array[1])\n",
    "print(\"Professional programmers votes:\",professional_votes_array[1])\n",
    "print(\"Beginner programmers votes:\",beginner_votes_array[1])\n",
    "print(\"other programmers votes:\",other_votes_array[1])"
   ]
  },
  {
   "cell_type": "code",
   "execution_count": 156,
   "metadata": {},
   "outputs": [
    {
     "name": "stdout",
     "output_type": "stream",
     "text": [
      "Cloud service: ['Amazon Web Services (AWS)' 'Firebase' 'Cloudflare' 'Google Cloud'\n",
      " 'Digital Ocean']\n",
      "Total number of votes: [33818 10761 10599 16592  9299]\n",
      "Professional programmers votes: [29479  8550  8326 13304  7838]\n",
      "Beginner programmers votes: [654 628 420 652 247]\n",
      "Other programmers votes: [1185  486  621  866  393]\n"
     ]
    }
   ],
   "source": [
    "#Corresponding vote values for first five cloud service(not sorted!)\n",
    "print(\"Cloud service:\",cloud_2023_array[:5])\n",
    "print(\"Total number of votes:\",total_votes_array[:5])\n",
    "print(\"Professional programmers votes:\",professional_votes_array[:5])\n",
    "print(\"Beginner programmers votes:\",beginner_votes_array[:5])\n",
    "print(\"Other programmers votes:\",other_votes_array[:5])"
   ]
  },
  {
   "cell_type": "code",
   "execution_count": 157,
   "metadata": {},
   "outputs": [
    {
     "name": "stdout",
     "output_type": "stream",
     "text": [
      "['Amazon Web Services (AWS)' 'Firebase' 'Cloudflare' 'Google Cloud'\n",
      " 'Digital Ocean' 'Heroku' 'Vercel' 'Netlify' 'VMware' 'Hetzner'\n",
      " 'Linode, now Akamai' 'Managed Hosting' 'OVH'\n",
      " 'Oracle Cloud Infrastructure (OCI)' 'OpenShift' 'Fly.io' 'Vultr' 'Render'\n",
      " 'OpenStack' 'IBM Cloud Or Watson' 'Scaleway' 'Colocation'\n",
      " 'Microsoft Azure']\n",
      "\n",
      "\n",
      "\n",
      "Cloud services from position 2 to 5: ['Cloudflare' 'Google Cloud' 'Digital Ocean' 'Heroku']\n",
      "\n",
      "\n",
      "\n",
      "Even indexed Cloud services: ['Amazon Web Services (AWS)' 'Cloudflare' 'Digital Ocean' 'Vercel'\n",
      " 'VMware' 'Linode, now Akamai' 'OVH' 'OpenShift' 'Vultr' 'OpenStack'\n",
      " 'Scaleway' 'Microsoft Azure']\n",
      "\n",
      "\n",
      "\n",
      "Cloud services in reverse: ['Microsoft Azure' 'Colocation' 'Scaleway' 'IBM Cloud Or Watson'\n",
      " 'OpenStack' 'Render' 'Vultr' 'Fly.io' 'OpenShift'\n",
      " 'Oracle Cloud Infrastructure (OCI)' 'OVH' 'Managed Hosting'\n",
      " 'Linode, now Akamai' 'Hetzner' 'VMware' 'Netlify' 'Vercel' 'Heroku'\n",
      " 'Digital Ocean' 'Google Cloud' 'Cloudflare' 'Firebase'\n",
      " 'Amazon Web Services (AWS)']\n",
      "\n",
      "\n",
      "\n"
     ]
    }
   ],
   "source": [
    "#Corresponding vote values for last five cloud service(not sorted!)\n",
    "print(cloud_2023_array)\n",
    "print(\"\\n\\n\")\n",
    "print(\"Cloud services from position 2 to 5:\",cloud_2023_array[2:6])\n",
    "print(\"\\n\\n\")\n",
    "print(\"Even indexed Cloud services:\",cloud_2023_array[::2])\n",
    "print(\"\\n\\n\")\n",
    "print(\"Cloud services in reverse:\",cloud_2023_array[::-1])\n",
    "print(\"\\n\\n\")"
   ]
  },
  {
   "cell_type": "code",
   "execution_count": 133,
   "metadata": {},
   "outputs": [
    {
     "name": "stdout",
     "output_type": "stream",
     "text": [
      "[1, 2, 3, 4, 5] [1 0 3 4 5]\n",
      "[2 3 5] [1 2 3 4 5]\n",
      "[2 3 5] [2 2 3 4 5]\n"
     ]
    }
   ],
   "source": [
    "#example of making changes in numpy slices and python lists\n",
    "l=[1,2,3,4,5]\n",
    "arr=np.array([1,2,3,4,5])\n",
    "l[0:3][1]=0 #In the list,we take slice of first 3 elements and then update the first element in the slice as 0. [1,2,3]-> [0,2,3]\n",
    "arr[0:3][1]=0 #In the array we do the same ,we take slice of first 3 elements and then update the first element in the slice as 0.\n",
    "print(l,arr)\n",
    "\n",
    "#Now we can store these slices as seperate arrays for futher modifications or analysis without disturbing the original array.This is done \n",
    "#Using the copy() method\n",
    "arr=np.array([1,2,3,4,5])\n",
    "\n",
    "#with copy method \n",
    "even_elements_array=arr[0:5:2].copy()\n",
    "even_elements_array[0]=2\n",
    "print(even_elements_array,arr)\n",
    "\n",
    "#without copy method(original array changes)\n",
    "even_elements_array=arr[0:5:2]\n",
    "even_elements_array[0]=2\n",
    "print(even_elements_array,arr)"
   ]
  },
  {
   "cell_type": "code",
   "execution_count": 136,
   "metadata": {},
   "outputs": [
    {
     "name": "stdout",
     "output_type": "stream",
     "text": [
      "[[33818 29479   654  1185]\n",
      " [10761  8550   628   486]\n",
      " [10599  8326   420   621]\n",
      " [16592 13304   652   866]\n",
      " [ 9299  7838   247   393]\n",
      " [ 8358  6535   492   418]\n",
      " [ 7431  5727   487   392]\n",
      " [ 6228  4708   498   330]\n",
      " [ 4964  3584   262   396]\n",
      " [ 3069  2465    67   184]\n",
      " [ 2755  2104   125   167]\n",
      " [ 2379  1889    63   137]\n",
      " [ 2378  1912    76   126]\n",
      " [ 1810  1146   123   190]\n",
      " [ 1671  1432    22    66]\n",
      " [ 1649  1342    72    79]\n",
      " [ 1357  1021    55    94]\n",
      " [ 1287   920   132    69]\n",
      " [ 1076   802    53    78]\n",
      " [  801   571    53    70]\n",
      " [  628   520     0    31]\n",
      " [    7   385    20    30]\n",
      " [18105 15441   370   714]]\n",
      "Number of dimensions in the array: 2\n",
      "Shape and dimensions of the array: (23, 4)\n",
      "Number of elements in the array: 92\n",
      "Data type of elements in the array: int32\n"
     ]
    }
   ],
   "source": [
    "#similarly we do for the raw_votes array\n",
    "merged_votes_array=np.reshape(votes_raw,(23,4))\n",
    "print(merged_votes_array)\n",
    "print(\"Number of dimensions in the array:\",merged_votes_array.ndim)\n",
    "print(\"Shape and dimensions of the array:\",merged_votes_array.shape)\n",
    "print(\"Number of elements in the array:\",merged_votes_array.size)\n",
    "print(\"Data type of elements in the array:\",merged_votes_array.dtype)"
   ]
  },
  {
   "cell_type": "code",
   "execution_count": 137,
   "metadata": {},
   "outputs": [
    {
     "name": "stdout",
     "output_type": "stream",
     "text": [
      "16.3 µs ± 786 ns per loop (mean ± std. dev. of 7 runs, 100,000 loops each)\n",
      "1.13 µs ± 47.9 ns per loop (mean ± std. dev. of 7 runs, 1,000,000 loops each)\n"
     ]
    }
   ],
   "source": [
    "import numpy as np\n",
    "def compute_non_professional_votes(beginner_votes_array,other_votes_array):\n",
    "    output = np.empty(len(beginner_votes_array))\n",
    "    for i in range(len(beginner_votes_array)):\n",
    "        output[i]=beginner_votes_array[i]+other_votes_array[i]\n",
    "    return output\n",
    "\n",
    "%timeit compute_non_professional_votes(beginner_votes_array,other_votes_array)\n",
    "%timeit (beginner_votes_array+other_votes_array)"
   ]
  },
  {
   "cell_type": "code",
   "execution_count": 138,
   "metadata": {},
   "outputs": [
    {
     "name": "stdout",
     "output_type": "stream",
     "text": [
      "Original array: [654 628 420 652 247 492 487 498 262  67 125  63  76 123  22  72  55 132\n",
      "  53  53   0  20 370]\n",
      "\n",
      "\n",
      "\n",
      "Adding 2 to all elements: [656 630 422 654 249 494 489 500 264  69 127  65  78 125  24  74  57 134\n",
      "  55  55   2  22 372]\n",
      "\n",
      "\n",
      "\n",
      "Dividing all elements by 2(normal) [327.  314.  210.  326.  123.5 246.  243.5 249.  131.   33.5  62.5  31.5\n",
      "  38.   61.5  11.   36.   27.5  66.   26.5  26.5   0.   10.  185. ]\n",
      "\n",
      "\n",
      "\n",
      "Dividing all elements by 2(floor) [327. 314. 210. 326. 123. 246. 243. 249. 131.  33.  62.  31.  38.  61.\n",
      "  11.  36.  27.  66.  26.  26.   0.  10. 185.]\n",
      "\n",
      "\n",
      "\n",
      "Negative array [-654 -628 -420 -652 -247 -492 -487 -498 -262  -67 -125  -63  -76 -123\n",
      "  -22  -72  -55 -132  -53  -53    0  -20 -370]\n"
     ]
    }
   ],
   "source": [
    "#Array arithmetic in Numpy\n",
    "print(\"Original array:\",beginner_votes_array)\n",
    "print(\"\\n\\n\")\n",
    "print(\"Adding 2 to all elements:\",beginner_votes_array+2)\n",
    "print(\"\\n\\n\")\n",
    "print(\"Dividing all elements by 2(normal)\",beginner_votes_array/2)\n",
    "print(\"\\n\\n\")\n",
    "floor_2_array=np.empty(len(beginner_votes_array))\n",
    "np.floor_divide(beginner_votes_array,2,out=floor_2_array)\n",
    "print(\"Dividing all elements by 2(floor)\",floor_2_array)\n",
    "print(\"\\n\\n\")\n",
    "print(\"Negative array\",-beginner_votes_array)"
   ]
  },
  {
   "cell_type": "code",
   "execution_count": 139,
   "metadata": {},
   "outputs": [
    {
     "name": "stdout",
     "output_type": "stream",
     "text": [
      "Non professional votes array: [1839 1114 1041 1518  640  910  879  828  658  251  292  200  202  313\n",
      "   88  151  149  201  131  123   31   50 1084]\n",
      "Non professional votes average: 551.87\n"
     ]
    }
   ],
   "source": [
    "#Viewing raw numbers does not make much sense instead we would like to know values in percentages\n",
    "non_professional_votes_array=beginner_votes_array+other_votes_array\n",
    "non_professional_votes_array_average=round(np.mean(non_professional_votes_array),2)\n",
    "print(\"Non professional votes array:\",non_professional_votes_array)\n",
    "print(\"Non professional votes average:\",non_professional_votes_array_average)"
   ]
  },
  {
   "cell_type": "code",
   "execution_count": 140,
   "metadata": {},
   "outputs": [
    {
     "name": "stdout",
     "output_type": "stream",
     "text": [
      "Boolean array for condition if the votes is greater than or equal to average votees: [ True  True  True  True  True  True  True  True  True False False False\n",
      " False False False False False False False False False False  True]\n",
      "\n",
      "\n",
      "\n",
      "Number of cloud platforms which are common: 10\n",
      "\n",
      "\n",
      "\n",
      "Number of cloud platforms which have a four digit total votes: 5\n",
      "\n",
      "\n",
      "\n",
      "Popular cloud platforms among non professionals: ['Amazon Web Services (AWS)' 'Firebase' 'Cloudflare' 'Google Cloud'\n",
      " 'Microsoft Azure']\n",
      "\n",
      "\n",
      "\n",
      "Is there any cloud platform that has less than 100 votes?: True\n",
      "\n",
      "\n",
      "\n",
      "Are all cloud platforms greater than 100 votes?: False\n",
      "Cloud platforms which more close towards the average votes: ['Digital Ocean' 'VMware' 'Oracle Cloud Infrastructure (OCI)']\n"
     ]
    }
   ],
   "source": [
    "#Now we will find which cloud platforms are actually popular(has votes more than average votes)\n",
    "print(\"Boolean array for condition if the votes is greater than or equal to average votes:\",non_professional_votes_array>=non_professional_votes_array_average)\n",
    "print(\"\\n\\n\")\n",
    "print(\"Number of cloud platforms which are common:\",np.sum(non_professional_votes_array>=non_professional_votes_array_average))\n",
    "print(\"\\n\\n\")\n",
    "print(\"Number of cloud platforms which have a four digit total votes:\",np.sum(non_professional_votes_array>=1000))\n",
    "print(\"\\n\\n\")\n",
    "print(\"Popular cloud platforms among non professionals:\",cloud_2023_array[non_professional_votes_array>=1000])\n",
    "print(\"\\n\\n\")\n",
    "print(\"Is there any cloud platform that has less than 100 votes?:\",np.any(non_professional_votes_array<=100))\n",
    "print(\"\\n\\n\")\n",
    "print(\"Are all cloud platforms greater than 100 votes?:\",np.all(non_professional_votes_array>=100))\n",
    "print(\"Cloud platforms which more close towards the average votes:\",cloud_2023_array[(non_professional_votes_array>=300) & (non_professional_votes_array<=700)])\n"
   ]
  },
  {
   "cell_type": "code",
   "execution_count": 141,
   "metadata": {},
   "outputs": [
    {
     "name": "stdout",
     "output_type": "stream",
     "text": [
      "['Amazon Web Services (AWS)', 'Firebase', 'Cloudflare', 'Google Cloud', 'Digital Ocean', 'Heroku', 'Vercel', 'Netlify', 'VMware', 'Hetzner', 'Linode, now Akamai', 'Managed Hosting', 'OVH', 'Oracle Cloud Infrastructure (OCI)', 'OpenShift', 'Fly.io', 'Vultr', 'Render', 'OpenStack', 'IBM Cloud Or Watson', 'Scaleway', 'Colocation', 'Microsoft Azure']\n",
      "\n",
      "\n",
      "\n",
      "['ZohoCorpCloud' 'MyCloudPlatform']\n",
      "\n",
      "\n",
      "\n",
      "['Amazon Web Services (AWS)' 'Firebase' 'Cloudflare' 'Google Cloud'\n",
      " 'Digital Ocean' 'Heroku' 'Vercel' 'Netlify' 'VMware' 'Hetzner'\n",
      " 'Linode, now Akamai' 'Managed Hosting' 'OVH'\n",
      " 'Oracle Cloud Infrastructure (OCI)' 'OpenShift' 'Fly.io' 'Vultr' 'Render'\n",
      " 'OpenStack' 'IBM Cloud Or Watson' 'Scaleway' 'Colocation'\n",
      " 'Microsoft Azure' 'ZohoCorpCloud' 'MyCloudPlatform']\n"
     ]
    }
   ],
   "source": [
    "#Concatenation\n",
    "new_cloud_platforms=np.array([\"ZohoCorpCloud\",\"MyCloudPlatform\"])\n",
    "updated_cloud_2023=np.concatenate([cloud_2023_array,new_cloud_platforms])\n",
    "print(cloud_2023)\n",
    "print(\"\\n\\n\")\n",
    "print(new_cloud_platforms)\n",
    "print(\"\\n\\n\")\n",
    "print(updated_cloud_2023)"
   ]
  },
  {
   "cell_type": "code",
   "execution_count": 142,
   "metadata": {},
   "outputs": [
    {
     "name": "stdout",
     "output_type": "stream",
     "text": [
      "Sum of array 1 and array 2: [5 7 9]\n",
      "[6 7 8 9]\n",
      "[6 7 8 9]\n",
      "Sum of arr1 and arr2 thanks to broadcasting: [[2 3]\n",
      " [4 5]]\n"
     ]
    }
   ],
   "source": [
    "#For example here the first element of the array is added with the first element of the second array and so on\n",
    "# 1 and 4 are added (0th element of array 1 and array 2)=5\n",
    "#2 and 5 are addded (1st element of array 1 and array 2)=7\n",
    "#3 and 6 are added  (2nd element of array 1 and array 2)=9\n",
    "import numpy as np\n",
    "arr1=np.array([1,2,3])\n",
    "arr2=np.array([4,5,6])\n",
    "print(\"Sum of array 1 and array 2:\",arr1+arr2)\n",
    "#Example: arr1+5 is basically 5 added to all elements of arr1 that means:\n",
    "arr=np.arange(1,5)\n",
    "five_array=np.array([5,5,5,5])\n",
    "print(arr+5)# 5 scalar is expanded to [5,5,5,5] to perform element wise addition(please note this actually does not take place)\n",
    "print(arr+five_array)\n",
    "\n",
    "#Broadcasting in multi dimensional single dimensional array operations\n",
    "#here [[1,2],[3,4]] + [[1,1]]-> [[1,2],[3,4]]+[[1,1],[1,1]] ->[[2,3],[4,5]](again please note this actually does not take place)\n",
    "arr1=np.array([[1,2],[3,4]])\n",
    "arr2=[[1,1]]\n",
    "print(\"Sum of arr1 and arr2 thanks to broadcasting:\",arr1+arr2)"
   ]
  },
  {
   "cell_type": "code",
   "execution_count": 143,
   "metadata": {},
   "outputs": [
    {
     "name": "stdout",
     "output_type": "stream",
     "text": [
      "(4,) (2, 4)\n",
      "[[1 2 3 4]\n",
      " [5 6 7 8]]\n",
      "[[ 2  4  6  8]\n",
      " [ 6  8 10 12]]\n"
     ]
    }
   ],
   "source": [
    "# Rule 1: If the two arrays differ in their number of dimensions, the shape of the one with fewer dimensions is padded with ones on its leading (left) side.\n",
    "\n",
    "\n",
    "# Rule 2: If the shape of the two arrays does not match in any dimension, the array with shape equal to 1 in that dimension is stretched to match the other shape.\n",
    "\n",
    "\n",
    "# Rule 3: If in any dimension the sizes disagree and neither is equal to 1, an error is raised.\n",
    "#Illustration for rule 1 and rule 2\n",
    "\n",
    "#First we see the shape of arr1 is (4,), shape of arr2 is (2,4). The dimension 4 is matching and by rule 1 \n",
    "#we pad 1 to left side\n",
    "#arr1 becomes (1,4) in dimension and arr2 is (2,4)\n",
    "#arr1: [1,2,3,4] -> [[1,2,3,4]] arr2:[[1,2,3,4],[5,6,7,8]]\n",
    "\n",
    "#Now by rule 2 first dimension is not matching and we stretch the arr1(aray with dimension 1) to match arr2 dimension\n",
    "#arr1 becomes (2,4) in dimension and arr2 is (2,4) now we can add the arrays\n",
    "#arr1: [[1,2,3,4]] -> [[1,2,3,4],[1,2,3,4]] arr2:[[1,2,3,4],[5,6,7,8]]\n",
    "\n",
    "#Now we can add both the arrays\n",
    "#arr1+arr2:[[1,2,3,4],[1,2,3,4]] + [[1,2,3,4],[5,6,7,8]] -> [[1+1 ,2+2, 3+3,4+4],[1+5,2+6,3+7,4+8]] -> [[2,4,6,8],[6,8,10,12]]\n",
    "arr1=np.array([1,2,3,4])\n",
    "arr2=np.array([[1,2,3,4],[5,6,7,8]])\n",
    "print(arr1.shape,arr2.shape)\n",
    "print(arr2)\n",
    "print(arr1+arr2)"
   ]
  },
  {
   "cell_type": "code",
   "execution_count": 144,
   "metadata": {},
   "outputs": [
    {
     "name": "stdout",
     "output_type": "stream",
     "text": [
      "The arrays can't be broadcasted and hence can't be added\n"
     ]
    }
   ],
   "source": [
    "#Illustration for rule 3\n",
    "#First we see the shape of arr1 is (3,), shape of arr2 is (2,4). The dimension 4 is matching and by rule 1 \n",
    "#we pad 1 to left side\n",
    "#arr1 becomes (1,3) in dimension and arr2 is (2,4)\n",
    "#arr1: [1,2,3] -> [[1,2,3]] arr2:[[1,2,3,4],[5,6,7,8]]\n",
    "\n",
    "#Now by rule 2 first dimension is not matching and we stretch the arr1(aray with dimension 1) to match arr2 dimension\n",
    "#arr1 becomes (2,3) in dimension and arr2 is (2,4) now we can add the arrays\n",
    "#arr1: [[1,2,3]] -> [[1,2,3],[1,2,3]] arr2:[[1,2,3,4],[5,6,7,8]]\n",
    "\n",
    "#Now the all dimensions do not match and no dimesnion is equal to one.Hence the two arrays can't be added \n",
    "arr1=np.array([1,2,3])\n",
    "arr2=np.array([[1,2,3,4],[5,6,7,8]])\n",
    "try:\n",
    "    print(arr1+arr2)\n",
    "except:\n",
    "    print(\"The arrays can't be broadcasted and hence can't be added\")"
   ]
  },
  {
   "cell_type": "code",
   "execution_count": 145,
   "metadata": {},
   "outputs": [
    {
     "name": "stdout",
     "output_type": "stream",
     "text": [
      "Total number of beginners: 5571\n",
      "\n",
      "\n",
      "\n",
      "Total number of professional votes: 120001\n",
      "\n",
      "\n",
      "\n",
      "Total number of other votes: [1185 1671 2292 3158 3551 3969 4361 4691 5087 5271 5438 5575 5701 5891\n",
      " 5957 6036 6130 6199 6277 6347 6378 6408 7122]\n",
      "\n",
      "\n",
      "\n",
      "Professional votes array:\n",
      "[29479  8550  8326 13304  7838  6535  5727  4708  3584  2465  2104  1889\n",
      "  1912  1146  1432  1342  1021   920   802   571   520   385 15441]\n",
      "\n",
      "\n",
      "\n",
      "Cummulative sum of professional votes:\n",
      "[ 29479  38029  46355  59659  67497  74032  79759  84467  88051  90516\n",
      "  92620  94509  96421  97567  98999 100341 101362 102282 103084 103655\n",
      " 104175 104560 120001]\n"
     ]
    }
   ],
   "source": [
    "#Let us get a sum aggregate of an array\n",
    "professional_votes_total=np.add.reduce(professional_votes_array)\n",
    "beginner_votes_total=np.add.reduce(beginner_votes_array)\n",
    "other_votes_total=np.add.reduce(other_votes_array)\n",
    "professional_votes_cummulative_sum=np.add.accumulate(professional_votes_array)\n",
    "print(\"Total number of beginners:\",beginner_votes_total)\n",
    "print(\"\\n\\n\")\n",
    "print(\"Total number of professional votes:\",professional_votes_total)\n",
    "print(\"\\n\\n\")\n",
    "print(\"Total number of other votes:\",other_votes_total)\n",
    "print(\"\\n\\n\")\n",
    "print(\"Professional votes array:\")\n",
    "print(professional_votes_array)\n",
    "print(\"\\n\\n\")\n",
    "print(\"Cummulative sum of professional votes:\")\n",
    "print(professional_votes_cummulative_sum)\n"
   ]
  },
  {
   "cell_type": "code",
   "execution_count": 146,
   "metadata": {},
   "outputs": [
    {
     "name": "stdout",
     "output_type": "stream",
     "text": [
      "7 33818\n",
      "Amazon Web Services (AWS) is the cloud platofrm with maximum votes of 33818\n",
      "Colocation is the cloud platofrm with manimum votes of 7\n"
     ]
    }
   ],
   "source": [
    "#let us find which cloud platform has maximum number of votes and minimum number of votes\n",
    "minimum_votes_number=np.min(total_votes_array)\n",
    "maximum_votes_number=np.max(total_votes_array)\n",
    "print(minimum_votes_number,maximum_votes_number)\n",
    "maximum_votes_index=np.argmax(total_votes_array)\n",
    "minimum_votes_index=np.argmin(total_votes_array)\n",
    "print(f\"{cloud_2023_array[maximum_votes_index]} is the cloud platform with maximum votes of {maximum_votes_number}\")\n",
    "print(f\"{cloud_2023_array[minimum_votes_index]} is the cloud platform with minimum votes of {minimum_votes_number}\")"
   ]
  },
  {
   "cell_type": "code",
   "execution_count": 147,
   "metadata": {},
   "outputs": [
    {
     "name": "stdout",
     "output_type": "stream",
     "text": [
      "Original votes array: [33818 10761 10599 16592  9299  8358  7431  6228  4964  3069  2755  2379\n",
      "  2378  1810  1671  1649  1357  1287  1076   801   628     7 18105]\n",
      "Sorted total votes array: [    7   628   801  1076  1287  1357  1649  1671  1810  2378  2379  2755\n",
      "  3069  4964  6228  7431  8358  9299 10599 10761 16592 18105 33818]\n"
     ]
    }
   ],
   "source": [
    "#Sorting means we arrange the elements in a specific order(mostly ascending or descending order).As usual numpy has a np.sort() \n",
    "#which is much faster than sort() in python\n",
    "total_votes_sorted=np.sort(total_votes_array)\n",
    "print(\"Original votes array:\",total_votes_array)\n",
    "print(\"Sorted total votes array:\",total_votes_sorted)"
   ]
  },
  {
   "cell_type": "code",
   "execution_count": 148,
   "metadata": {},
   "outputs": [
    {
     "name": "stdout",
     "output_type": "stream",
     "text": [
      "Indexes after sorting the total votes array:\n",
      "[21 20 19 18 17 16 15 14 13 12 11 10  9  8  7  6  5  4  2  1  3 22  0]\n",
      "Indexes after sorting the total votes array in descending order:\n",
      "[ 0 22  3  1  2  4  5  6  7  8  9 10 11 12 13 14 15 16 17 18 19 20 21]\n",
      "Cloud platforms sorted based on votes:\n",
      "['Amazon Web Services (AWS)', 'Microsoft Azure', 'Google Cloud', 'Firebase', 'Cloudflare', 'Digital Ocean', 'Heroku', 'Vercel', 'Netlify', 'VMware', 'Hetzner', 'Linode, now Akamai', 'Managed Hosting', 'OVH', 'Oracle Cloud Infrastructure (OCI)', 'OpenShift', 'Fly.io', 'Vultr', 'Render', 'OpenStack', 'IBM Cloud Or Watson', 'Scaleway', 'Colocation']\n",
      "\n",
      "\n",
      "\n",
      "Cloud platforms sorted based on votes from Professional programmers:\n",
      "['Amazon Web Services (AWS)', 'Microsoft Azure', 'Google Cloud', 'Firebase', 'Cloudflare', 'Digital Ocean', 'Heroku', 'Vercel', 'Netlify', 'VMware', 'Hetzner', 'Linode, now Akamai', 'OVH', 'Managed Hosting', 'OpenShift', 'Fly.io', 'Oracle Cloud Infrastructure (OCI)', 'Vultr', 'Render', 'OpenStack', 'IBM Cloud Or Watson', 'Scaleway', 'Colocation']\n",
      "\n",
      "\n",
      "\n",
      "Cloud platforms sorted based on votes from Beginner programmers:\n",
      "['Amazon Web Services (AWS)', 'Google Cloud', 'Firebase', 'Netlify', 'Heroku', 'Vercel', 'Cloudflare', 'Microsoft Azure', 'VMware', 'Digital Ocean', 'Render', 'Linode, now Akamai', 'Oracle Cloud Infrastructure (OCI)', 'OVH', 'Fly.io', 'Hetzner', 'Managed Hosting', 'Vultr', 'OpenStack', 'IBM Cloud Or Watson', 'OpenShift', 'Colocation', 'Scaleway']\n"
     ]
    }
   ],
   "source": [
    "#Using argsort we can get coressponding indices of elements of the sorted array and sort the cloud_2023 array based on votes\n",
    "# Get the indices that would sort the total_votes array\n",
    "sorted_indices_total=np.argsort(total_votes_array)\n",
    "print(\"Indexes after sorting the total votes array:\")\n",
    "print(sorted_indices_total)\n",
    "descending_indexes_total=sorted_indices_total[::-1]\n",
    "print(\"Indexes after sorting the total votes array in descending order:\")\n",
    "print(descending_indexes_total)\n",
    "# Use the indices to sort the cloud_2023 array\n",
    "cloud_2023_sorted=[cloud_2023[i] for i in descending_indexes_total]\n",
    "\n",
    "# Print the sorted cloud_2023 array\n",
    "print(\"Cloud platforms sorted based on votes:\")\n",
    "print(cloud_2023_sorted)\n",
    "print(\"\\n\\n\")\n",
    "\n",
    "sorted_indexes_professional=np.argsort(professional_votes_array)\n",
    "descending_indexes_professional=sorted_indexes_professional[::-1]\n",
    "cloud_2023_sorted_professional=[cloud_2023[i] for i in descending_indexes_professional]\n",
    "print(\"Cloud platforms sorted based on votes from Professional programmers:\")\n",
    "print(cloud_2023_sorted_professional)\n",
    "print(\"\\n\\n\")\n",
    "\n",
    "sorted_indexes_beginner=np.argsort(beginner_votes_array)\n",
    "descending_indexes_beginner=sorted_indexes_beginner[::-1]\n",
    "cloud_2023_sorted_beginner=[cloud_2023[i] for i in descending_indexes_beginner]\n",
    "print(\"Cloud platforms sorted based on votes from Beginner programmers:\")\n",
    "print(cloud_2023_sorted_beginner)\n"
   ]
  },
  {
   "cell_type": "code",
   "execution_count": 149,
   "metadata": {},
   "outputs": [
    {
     "name": "stdout",
     "output_type": "stream",
     "text": [
      "Partially sorted total votes array for 4 elements: [    7   628   801  1076  1287  8358  7431  6228  4964  2755  2379  9299\n",
      "  2378  1810  1671  1649  1357  3069 10599 16592 10761 18105 33818]\n"
     ]
    }
   ],
   "source": [
    "#Partial sort finds the k-smallest values and places them first in the array and then the remaining elements,the order is random\n",
    "\n",
    "total_votes_top_4_sort=np.partition(total_votes_array,4)\n",
    "\n",
    "#First we find the four smallest elements and place them in random order in array 0,1,2,3\n",
    "#then take remaining elements and put in random order 9,8,7,5,4, Of course for multi dimensional arrays we can sort by dimesnion\n",
    "print(\"Partially sorted total votes array for 4 elements:\",total_votes_top_4_sort)"
   ]
  },
  {
   "cell_type": "code",
   "execution_count": 150,
   "metadata": {},
   "outputs": [
    {
     "name": "stdout",
     "output_type": "stream",
     "text": [
      "Indexes after partially sorting the total votes array: [21 20 19 18 17  5  6  7  8 10 11  4 12 13 14 15 16  9  2  3  1 22  0]\n",
      "['Colocation', 'Scaleway', 'IBM Cloud Or Watson', 'OpenStack']\n"
     ]
    }
   ],
   "source": [
    "# Partial sort finds the k-smallest values and places them first in the array,\n",
    "# and then the remaining elements in random order\n",
    "\n",
    "# Get the indices that would partially sort the total_votes array\n",
    "partial_sort_indices = np.argpartition(total_votes_array, 4)\n",
    "print(\"Indexes after partially sorting the total votes array:\",partial_sort_indices)\n",
    "\n",
    "# Use the indices to partially sort the cloud_2023 array\n",
    "cloud_2023_partially_sorted_4 =[cloud_2023[i] for i in partial_sort_indices[:4]]\n",
    "\n",
    "# Print the partially sorted cloud_2023 array\n",
    "print(cloud_2023_partially_sorted_4)"
   ]
  }
 ],
 "metadata": {
  "kernelspec": {
   "display_name": "tf-gpu",
   "language": "python",
   "name": "python3"
  },
  "language_info": {
   "codemirror_mode": {
    "name": "ipython",
    "version": 3
   },
   "file_extension": ".py",
   "mimetype": "text/x-python",
   "name": "python",
   "nbconvert_exporter": "python",
   "pygments_lexer": "ipython3",
   "version": "3.9.18"
  }
 },
 "nbformat": 4,
 "nbformat_minor": 2
}
