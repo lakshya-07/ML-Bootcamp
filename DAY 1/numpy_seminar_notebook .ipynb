{
  "nbformat": 4,
  "nbformat_minor": 0,
  "metadata": {
    "colab": {
      "provenance": []
    },
    "kernelspec": {
      "name": "python3",
      "display_name": "Python 3"
    },
    "language_info": {
      "name": "python"
    }
  },
  "cells": [
    {
      "cell_type": "code",
      "execution_count": null,
      "metadata": {
        "colab": {
          "base_uri": "https://localhost:8080/",
          "height": 36
        },
        "id": "8TrOXhk5e2vs",
        "outputId": "c1024207-b437-47ac-dc16-370f98c1ca50"
      },
      "outputs": [
        {
          "output_type": "execute_result",
          "data": {
            "text/plain": [
              "'1.23.5'"
            ],
            "application/vnd.google.colaboratory.intrinsic+json": {
              "type": "string"
            }
          },
          "metadata": {},
          "execution_count": 3
        }
      ],
      "source": [
        "#Numpy is an open source package for working with arrays\n",
        "import numpy\n",
        "numpy.__version__"
      ]
    },
    {
      "cell_type": "code",
      "source": [
        "import numpy as np\n",
        "np.__version__"
      ],
      "metadata": {
        "colab": {
          "base_uri": "https://localhost:8080/",
          "height": 36
        },
        "id": "EqFrlmG0e420",
        "outputId": "c945ebf8-6a48-4e0a-f017-4894b801feee"
      },
      "execution_count": null,
      "outputs": [
        {
          "output_type": "execute_result",
          "data": {
            "text/plain": [
              "'1.23.5'"
            ],
            "application/vnd.google.colaboratory.intrinsic+json": {
              "type": "string"
            }
          },
          "metadata": {},
          "execution_count": 4
        }
      ]
    },
    {
      "cell_type": "code",
      "source": [
        "l=[True,\"String\",1,3.2]\n",
        "print(l)"
      ],
      "metadata": {
        "colab": {
          "base_uri": "https://localhost:8080/"
        },
        "id": "ux3f1_UVfC-S",
        "outputId": "136a250b-611d-40e9-e674-c975f5db1d04"
      },
      "execution_count": null,
      "outputs": [
        {
          "output_type": "stream",
          "name": "stdout",
          "text": [
            "[True, 'String', 1, 3.2]\n"
          ]
        }
      ]
    },
    {
      "cell_type": "markdown",
      "source": [
        "1-> this is not an integer this is an object.\n",
        "python should basically figure what data type it is to store in the memory"
      ],
      "metadata": {
        "id": "1Y4UsVOegIWW"
      }
    },
    {
      "cell_type": "code",
      "source": [
        "l=[1,2,3,4,5]\n",
        "arr=np.array(l)\n",
        "print(l,arr)\n",
        "print(type(l))\n",
        "print(type(arr))"
      ],
      "metadata": {
        "colab": {
          "base_uri": "https://localhost:8080/"
        },
        "id": "FU3ZdUxKf0QW",
        "outputId": "315be9d4-2dbc-4ef3-9538-6896c19c9fa3"
      },
      "execution_count": null,
      "outputs": [
        {
          "output_type": "stream",
          "name": "stdout",
          "text": [
            "[1, 2, 3, 4, 5] [1 2 3 4 5]\n",
            "<class 'list'>\n",
            "<class 'numpy.ndarray'>\n"
          ]
        }
      ]
    },
    {
      "cell_type": "code",
      "source": [
        "# List of cloud technologies in 2023\n",
        "cloud_2023 = ['Amazon Web Services (AWS)', 'Firebase', 'Cloudflare', 'Google Cloud','Digital Ocean',\n",
        "               'Heroku', 'Vercel', 'Netlify', 'VMware', 'Hetzner', 'Linode, now Akamai', 'Managed Hosting', 'OVH',\n",
        "               'Oracle Cloud Infrastructure (OCI)', 'OpenShift', 'Fly.io', 'Vultr', 'Render', 'OpenStack',\n",
        "               'IBM Cloud Or Watson', 'Scaleway', 'Colocation', 'Microsoft Azure']\n",
        "\n",
        "#list of all votes for each cloud platform\n",
        "votes_raw=[33818, 29479, 654, 1185,10761, 8550, 628, 486,10599, 8326, 420, 621,16592, 13304, 652, 866,\n",
        "9299, 7838, 247, 393,8358, 6535, 492, 418,7431, 5727, 487, 392,6228, 4708, 498, 330,4964, 3584, 262, 396,3069, 2465, 67, 184,\n",
        "2755, 2104, 125, 167,2379, 1889, 63, 137,2378, 1912, 76, 126,1810, 1146, 123, 190,1671, 1432, 22, 66,1649, 1342, 72, 79,1357, 1021, 55, 94,\n",
        "1287, 920, 132, 69,1076, 802, 53, 78,801, 571, 53, 70,628, 520, 0, 31,7, 385, 20, 30,18105, 15441, 370, 714]"
      ],
      "metadata": {
        "id": "q3sMvQsthMCY"
      },
      "execution_count": null,
      "outputs": []
    },
    {
      "cell_type": "code",
      "source": [
        "print(\"Data type of votes raw list:\",type(votes_raw))"
      ],
      "metadata": {
        "colab": {
          "base_uri": "https://localhost:8080/"
        },
        "id": "eK-zC7_ZiVtU",
        "outputId": "a58c4c60-c6ae-4d42-ad11-240709003262"
      },
      "execution_count": null,
      "outputs": [
        {
          "output_type": "stream",
          "name": "stdout",
          "text": [
            "Data type of votes raw list: <class 'list'>\n"
          ]
        }
      ]
    },
    {
      "cell_type": "code",
      "source": [
        "import numpy as np\n",
        "cloud_2023_array=np.array(cloud_2023)\n",
        "votes_2023_array=np.array(votes_raw)\n",
        "print(cloud_2023_array)\n",
        "print(votes_2023_array)"
      ],
      "metadata": {
        "colab": {
          "base_uri": "https://localhost:8080/"
        },
        "id": "SaQ9Dn_Hij69",
        "outputId": "ed686bc5-15a0-4612-d12c-194da34f4f16"
      },
      "execution_count": null,
      "outputs": [
        {
          "output_type": "stream",
          "name": "stdout",
          "text": [
            "['Amazon Web Services (AWS)' 'Firebase' 'Cloudflare' 'Google Cloud'\n",
            " 'Digital Ocean' 'Heroku' 'Vercel' 'Netlify' 'VMware' 'Hetzner'\n",
            " 'Linode, now Akamai' 'Managed Hosting' 'OVH'\n",
            " 'Oracle Cloud Infrastructure (OCI)' 'OpenShift' 'Fly.io' 'Vultr' 'Render'\n",
            " 'OpenStack' 'IBM Cloud Or Watson' 'Scaleway' 'Colocation'\n",
            " 'Microsoft Azure']\n",
            "[33818 29479   654  1185 10761  8550   628   486 10599  8326   420   621\n",
            " 16592 13304   652   866  9299  7838   247   393  8358  6535   492   418\n",
            "  7431  5727   487   392  6228  4708   498   330  4964  3584   262   396\n",
            "  3069  2465    67   184  2755  2104   125   167  2379  1889    63   137\n",
            "  2378  1912    76   126  1810  1146   123   190  1671  1432    22    66\n",
            "  1649  1342    72    79  1357  1021    55    94  1287   920   132    69\n",
            "  1076   802    53    78   801   571    53    70   628   520     0    31\n",
            "     7   385    20    30 18105 15441   370   714]\n"
          ]
        }
      ]
    },
    {
      "cell_type": "code",
      "source": [
        "print(type(cloud_2023_array))"
      ],
      "metadata": {
        "colab": {
          "base_uri": "https://localhost:8080/"
        },
        "id": "zcZSTXP0i_xw",
        "outputId": "1811d360-6b7d-4448-9b1a-3346048e1891"
      },
      "execution_count": null,
      "outputs": [
        {
          "output_type": "stream",
          "name": "stdout",
          "text": [
            "<class 'numpy.ndarray'>\n"
          ]
        }
      ]
    },
    {
      "cell_type": "code",
      "source": [
        "#size\n",
        "print(\"Number of cloud services in the array:\",cloud_2023_array.size)\n",
        "print(\"The shape of  array:\",cloud_2023_array.shape) #(23,)->(23,1)\n",
        "print(\"Data types of each element in cloud array:\",cloud_2023_array.dtype)#U33 -> String with 33 bytes (Unicode)\n",
        "print(\"Data types of each element in the raw votes array:\",votes_2023_array.dtype)# int64 -> 64 bit integer\n",
        "print(\"umber of dimensions:\",votes_2023_array.ndim)"
      ],
      "metadata": {
        "colab": {
          "base_uri": "https://localhost:8080/"
        },
        "id": "dzeu_ArIjkzR",
        "outputId": "f7afbf21-d02a-4242-bf07-a08eb883e897"
      },
      "execution_count": null,
      "outputs": [
        {
          "output_type": "stream",
          "name": "stdout",
          "text": [
            "Number of cloud services in the array: 23\n",
            "The shape of  array: (23,)\n",
            "Data types of each element in cloud array: <U33\n",
            "Data types of each element in the raw votes array: int64\n",
            "umber of dimensions: 1\n"
          ]
        }
      ]
    },
    {
      "cell_type": "code",
      "source": [
        "#type casting\n",
        "votes_2023_array_32bit=np.array(votes_2023_array,dtype=np.int32)\n",
        "votes_2023_array_32bit"
      ],
      "metadata": {
        "colab": {
          "base_uri": "https://localhost:8080/"
        },
        "id": "CtH5qHGqjza9",
        "outputId": "fbe3e303-bfcf-40d4-e19d-a915d08094ed"
      },
      "execution_count": null,
      "outputs": [
        {
          "output_type": "execute_result",
          "data": {
            "text/plain": [
              "array([33818, 29479,   654,  1185, 10761,  8550,   628,   486, 10599,\n",
              "        8326,   420,   621, 16592, 13304,   652,   866,  9299,  7838,\n",
              "         247,   393,  8358,  6535,   492,   418,  7431,  5727,   487,\n",
              "         392,  6228,  4708,   498,   330,  4964,  3584,   262,   396,\n",
              "        3069,  2465,    67,   184,  2755,  2104,   125,   167,  2379,\n",
              "        1889,    63,   137,  2378,  1912,    76,   126,  1810,  1146,\n",
              "         123,   190,  1671,  1432,    22,    66,  1649,  1342,    72,\n",
              "          79,  1357,  1021,    55,    94,  1287,   920,   132,    69,\n",
              "        1076,   802,    53,    78,   801,   571,    53,    70,   628,\n",
              "         520,     0,    31,     7,   385,    20,    30, 18105, 15441,\n",
              "         370,   714], dtype=int32)"
            ]
          },
          "metadata": {},
          "execution_count": 20
        }
      ]
    },
    {
      "cell_type": "code",
      "source": [
        "#upcasting\n",
        "int64_array=np.array([1.6,0,2,9,True],dtype=\"int\")\n",
        "int64_array"
      ],
      "metadata": {
        "colab": {
          "base_uri": "https://localhost:8080/"
        },
        "id": "kHJesYmhl6ZN",
        "outputId": "3fb6ee54-3ea1-48af-8995-25eea0db7edd"
      },
      "execution_count": null,
      "outputs": [
        {
          "output_type": "execute_result",
          "data": {
            "text/plain": [
              "array([1, 0, 2, 9, 1])"
            ]
          },
          "metadata": {},
          "execution_count": 21
        }
      ]
    },
    {
      "cell_type": "code",
      "source": [
        "cloud_2023_array"
      ],
      "metadata": {
        "colab": {
          "base_uri": "https://localhost:8080/"
        },
        "id": "bV5-5PoEmY2S",
        "outputId": "11dcbf95-23e6-4d1b-c42e-d111ffbeeab4"
      },
      "execution_count": null,
      "outputs": [
        {
          "output_type": "execute_result",
          "data": {
            "text/plain": [
              "array(['Amazon Web Services (AWS)', 'Firebase', 'Cloudflare',\n",
              "       'Google Cloud', 'Digital Ocean', 'Heroku', 'Vercel', 'Netlify',\n",
              "       'VMware', 'Hetzner', 'Linode, now Akamai', 'Managed Hosting',\n",
              "       'OVH', 'Oracle Cloud Infrastructure (OCI)', 'OpenShift', 'Fly.io',\n",
              "       'Vultr', 'Render', 'OpenStack', 'IBM Cloud Or Watson', 'Scaleway',\n",
              "       'Colocation', 'Microsoft Azure'], dtype='<U33')"
            ]
          },
          "metadata": {},
          "execution_count": 22
        }
      ]
    },
    {
      "cell_type": "code",
      "source": [
        "votes_2023_array"
      ],
      "metadata": {
        "colab": {
          "base_uri": "https://localhost:8080/"
        },
        "id": "0m3SZiQomiJU",
        "outputId": "271d2db6-394e-4979-9654-31c93b02475b"
      },
      "execution_count": null,
      "outputs": [
        {
          "output_type": "execute_result",
          "data": {
            "text/plain": [
              "array([33818, 29479,   654,  1185, 10761,  8550,   628,   486, 10599,\n",
              "        8326,   420,   621, 16592, 13304,   652,   866,  9299,  7838,\n",
              "         247,   393,  8358,  6535,   492,   418,  7431,  5727,   487,\n",
              "         392,  6228,  4708,   498,   330,  4964,  3584,   262,   396,\n",
              "        3069,  2465,    67,   184,  2755,  2104,   125,   167,  2379,\n",
              "        1889,    63,   137,  2378,  1912,    76,   126,  1810,  1146,\n",
              "         123,   190,  1671,  1432,    22,    66,  1649,  1342,    72,\n",
              "          79,  1357,  1021,    55,    94,  1287,   920,   132,    69,\n",
              "        1076,   802,    53,    78,   801,   571,    53,    70,   628,\n",
              "         520,     0,    31,     7,   385,    20,    30, 18105, 15441,\n",
              "         370,   714])"
            ]
          },
          "metadata": {},
          "execution_count": 23
        }
      ]
    },
    {
      "cell_type": "code",
      "source": [
        "#reshape\n",
        "print(votes_2023_array.shape)"
      ],
      "metadata": {
        "colab": {
          "base_uri": "https://localhost:8080/"
        },
        "id": "_F2CBHXtmjt9",
        "outputId": "5fe4a302-98e9-4714-8e14-18d39521f9bb"
      },
      "execution_count": null,
      "outputs": [
        {
          "output_type": "stream",
          "name": "stdout",
          "text": [
            "(92,)\n"
          ]
        }
      ]
    },
    {
      "cell_type": "code",
      "source": [
        "test_array=np.array([33818, 29479, 654,  1185, 10761,  8550,   628,   486])\n",
        "print(test_array.shape)"
      ],
      "metadata": {
        "colab": {
          "base_uri": "https://localhost:8080/"
        },
        "id": "Nps843cvmyUC",
        "outputId": "94327c12-0b87-4cd0-815b-3d78a9688950"
      },
      "execution_count": null,
      "outputs": [
        {
          "output_type": "stream",
          "name": "stdout",
          "text": [
            "(8,)\n"
          ]
        }
      ]
    },
    {
      "cell_type": "code",
      "source": [
        "reshape_array=np.reshape(test_array,(len(test_array)//4,4))# total number of elements/group size -> len(test_array) divided by 4,4\n",
        "reshape_array"
      ],
      "metadata": {
        "colab": {
          "base_uri": "https://localhost:8080/"
        },
        "id": "4F6hYXs9nARp",
        "outputId": "783ba6d5-a163-4fe6-d18f-070f1d8b2235"
      },
      "execution_count": null,
      "outputs": [
        {
          "output_type": "execute_result",
          "data": {
            "text/plain": [
              "array([[33818, 29479,   654,  1185],\n",
              "       [10761,  8550,   628,   486]])"
            ]
          },
          "metadata": {},
          "execution_count": 28
        }
      ]
    },
    {
      "cell_type": "code",
      "source": [
        "len(test_array)//4 #quotient as an integer"
      ],
      "metadata": {
        "colab": {
          "base_uri": "https://localhost:8080/"
        },
        "id": "5zLmNCAZnbLP",
        "outputId": "b3cb6b0a-3d52-4dbb-a9fe-86997e28c94c"
      },
      "execution_count": null,
      "outputs": [
        {
          "output_type": "execute_result",
          "data": {
            "text/plain": [
              "2.0"
            ]
          },
          "metadata": {},
          "execution_count": 27
        }
      ]
    },
    {
      "cell_type": "code",
      "source": [
        "merged_votes_array=np.reshape(votes_2023_array,(len(votes_2023_array)//4,4))\n",
        "print(merged_votes_array)\n",
        "print(\"Shape of the merged votes array:\",merged_votes_array.shape)"
      ],
      "metadata": {
        "colab": {
          "base_uri": "https://localhost:8080/"
        },
        "id": "qTuSj7sGnzHb",
        "outputId": "fe4fc0d9-ae83-403f-a352-b52e707af584"
      },
      "execution_count": null,
      "outputs": [
        {
          "output_type": "stream",
          "name": "stdout",
          "text": [
            "[[33818 29479   654  1185]\n",
            " [10761  8550   628   486]\n",
            " [10599  8326   420   621]\n",
            " [16592 13304   652   866]\n",
            " [ 9299  7838   247   393]\n",
            " [ 8358  6535   492   418]\n",
            " [ 7431  5727   487   392]\n",
            " [ 6228  4708   498   330]\n",
            " [ 4964  3584   262   396]\n",
            " [ 3069  2465    67   184]\n",
            " [ 2755  2104   125   167]\n",
            " [ 2379  1889    63   137]\n",
            " [ 2378  1912    76   126]\n",
            " [ 1810  1146   123   190]\n",
            " [ 1671  1432    22    66]\n",
            " [ 1649  1342    72    79]\n",
            " [ 1357  1021    55    94]\n",
            " [ 1287   920   132    69]\n",
            " [ 1076   802    53    78]\n",
            " [  801   571    53    70]\n",
            " [  628   520     0    31]\n",
            " [    7   385    20    30]\n",
            " [18105 15441   370   714]]\n",
            "Shape of the merged votes array: (23, 4)\n"
          ]
        }
      ]
    },
    {
      "cell_type": "code",
      "source": [
        "print(\"Number of dimensions in merged votes array:\",merged_votes_array.ndim)"
      ],
      "metadata": {
        "colab": {
          "base_uri": "https://localhost:8080/"
        },
        "id": "WRE4fiMFoKJb",
        "outputId": "162b7d0e-ddaf-4476-9534-2aae004d107c"
      },
      "execution_count": null,
      "outputs": [
        {
          "output_type": "stream",
          "name": "stdout",
          "text": [
            "Number of dimensions in merged votes array: 2\n"
          ]
        }
      ]
    },
    {
      "cell_type": "code",
      "source": [
        "total_votes_array=merged_votes_array[:,0]\n",
        "professional_votes_array=merged_votes_array[:,1]\n",
        "beginner_votes_array=merged_votes_array[:,2]\n",
        "other_votes_array=merged_votes_array[:,3]\n",
        "print(\"Total votes array:\",total_votes_array)\n",
        "print(\"\\n\\n\")\n",
        "print(\"Professional programmers votes\",professional_votes_array)\n",
        "print(\"\\n\\n\")\n",
        "print(\"Beginner programmers votes:\",beginner_votes_array)\n",
        "print(\"\\n\\n\")\n",
        "print(\"Other programmers votes:\",other_votes_array)"
      ],
      "metadata": {
        "colab": {
          "base_uri": "https://localhost:8080/"
        },
        "id": "ramqt0VOonBk",
        "outputId": "f68f5538-920e-4e33-efe0-bd7b67b3d3de"
      },
      "execution_count": null,
      "outputs": [
        {
          "output_type": "stream",
          "name": "stdout",
          "text": [
            "Total votes array: [33818 10761 10599 16592  9299  8358  7431  6228  4964  3069  2755  2379\n",
            "  2378  1810  1671  1649  1357  1287  1076   801   628     7 18105]\n",
            "\n",
            "\n",
            "\n",
            "Professional programmers votes [29479  8550  8326 13304  7838  6535  5727  4708  3584  2465  2104  1889\n",
            "  1912  1146  1432  1342  1021   920   802   571   520   385 15441]\n",
            "\n",
            "\n",
            "\n",
            "Beginner programmers votes: [654 628 420 652 247 492 487 498 262  67 125  63  76 123  22  72  55 132\n",
            "  53  53   0  20 370]\n",
            "\n",
            "\n",
            "\n",
            "Other programmers votes: [1185  486  621  866  393  418  392  330  396  184  167  137  126  190\n",
            "   66   79   94   69   78   70   31   30  714]\n"
          ]
        }
      ]
    },
    {
      "cell_type": "code",
      "source": [
        "cloud_2023_array"
      ],
      "metadata": {
        "colab": {
          "base_uri": "https://localhost:8080/"
        },
        "id": "2OwsjPg3p6Mf",
        "outputId": "91099374-aa7e-45d0-b752-c4c7218d108e"
      },
      "execution_count": null,
      "outputs": [
        {
          "output_type": "execute_result",
          "data": {
            "text/plain": [
              "array(['Amazon Web Services (AWS)', 'Firebase', 'Cloudflare',\n",
              "       'Google Cloud', 'Digital Ocean', 'Heroku', 'Vercel', 'Netlify',\n",
              "       'VMware', 'Hetzner', 'Linode, now Akamai', 'Managed Hosting',\n",
              "       'OVH', 'Oracle Cloud Infrastructure (OCI)', 'OpenShift', 'Fly.io',\n",
              "       'Vultr', 'Render', 'OpenStack', 'IBM Cloud Or Watson', 'Scaleway',\n",
              "       'Colocation', 'Microsoft Azure'], dtype='<U33')"
            ]
          },
          "metadata": {},
          "execution_count": 33
        }
      ]
    },
    {
      "cell_type": "code",
      "source": [
        "l=[1,2,3,4,5] #0,1,2,3,4,5\n",
        "print(\"first element of the list:\",l[0])\n",
        "print(\"Elements from second position to fourth position:\",l[1:4]) #1,2,3"
      ],
      "metadata": {
        "colab": {
          "base_uri": "https://localhost:8080/"
        },
        "id": "6qcgKSczqAv6",
        "outputId": "1afe05ea-3a99-484c-c4db-5dfcb9495f80"
      },
      "execution_count": null,
      "outputs": [
        {
          "output_type": "stream",
          "name": "stdout",
          "text": [
            "first element of the list: 1\n",
            "Elements from second position to fourth position: [2, 3, 4]\n"
          ]
        }
      ]
    },
    {
      "cell_type": "code",
      "source": [
        "#Corressponding vote values for a random cloud service\n",
        "print(\"Cloud service name:\",cloud_2023_array[3])\n",
        "print(\"Total number of votes:\",total_votes_array[3])\n",
        "print(\"Professional votes:\",professional_votes_array[3])\n",
        "print(\"Beginner votes:\",beginner_votes_array[3])\n",
        "print(\"Other votes:\",other_votes_array[3])"
      ],
      "metadata": {
        "colab": {
          "base_uri": "https://localhost:8080/"
        },
        "id": "f8EIxfyEqaPX",
        "outputId": "32901c44-cb56-473a-d4c5-8c30efaf1c82"
      },
      "execution_count": null,
      "outputs": [
        {
          "output_type": "stream",
          "name": "stdout",
          "text": [
            "Cloud service name: Google Cloud\n",
            "Total number of votes: 16592\n",
            "Professional votes: 13304\n",
            "Beginner votes: 652\n",
            "Other votes: 866\n"
          ]
        }
      ]
    },
    {
      "cell_type": "code",
      "source": [
        "print(\"Cloud service name:\",cloud_2023_array[:5]) #0,1,2,3,4\n",
        "print(\"Total number of votes:\",total_votes_array[:5])\n",
        "print(\"Professional votes:\",professional_votes_array[:5])\n",
        "print(\"Beginner votes:\",beginner_votes_array[:5])\n",
        "print(\"Other votes:\",other_votes_array[:5])"
      ],
      "metadata": {
        "colab": {
          "base_uri": "https://localhost:8080/"
        },
        "id": "GHFmfe3WrMbk",
        "outputId": "73711fd5-b0bf-4e28-d364-a33458f49170"
      },
      "execution_count": null,
      "outputs": [
        {
          "output_type": "stream",
          "name": "stdout",
          "text": [
            "Cloud service name: ['Amazon Web Services (AWS)' 'Firebase' 'Cloudflare' 'Google Cloud'\n",
            " 'Digital Ocean']\n",
            "Total number of votes: [33818 10761 10599 16592  9299]\n",
            "Professional votes: [29479  8550  8326 13304  7838]\n",
            "Beginner votes: [654 628 420 652 247]\n",
            "Other votes: [1185  486  621  866  393]\n"
          ]
        }
      ]
    },
    {
      "cell_type": "code",
      "source": [
        "l=[1,2,3,4,5]\n",
        "arr=np.array([1,2,3,4,5])\n",
        "l[0:3][1]=0#elements at index 0,1,2 ->[1,2,3]-> [2]\n",
        "arr[0:3][1]=0\n",
        "l,arr"
      ],
      "metadata": {
        "colab": {
          "base_uri": "https://localhost:8080/"
        },
        "id": "-W1xFFNYr5iO",
        "outputId": "5f63ea5d-89fb-4bfd-864d-512e965716d1"
      },
      "execution_count": null,
      "outputs": [
        {
          "output_type": "execute_result",
          "data": {
            "text/plain": [
              "([1, 2, 3, 4, 5], array([1, 0, 3, 4, 5]))"
            ]
          },
          "metadata": {},
          "execution_count": 42
        }
      ]
    },
    {
      "cell_type": "code",
      "source": [
        "arr=np.array([1,2,3,4,5])\n",
        "even_elements_array=arr[0:5:2].copy()#0,2,4\n",
        "even_elements_array[0]=2\n",
        "print(arr,even_elements_array)"
      ],
      "metadata": {
        "colab": {
          "base_uri": "https://localhost:8080/"
        },
        "id": "nKSZAsLxsnl4",
        "outputId": "5288df9c-70db-4506-bfbb-914e55fc37c9"
      },
      "execution_count": null,
      "outputs": [
        {
          "output_type": "stream",
          "name": "stdout",
          "text": [
            "[1 2 3 4 5] [2 3 5]\n"
          ]
        }
      ]
    },
    {
      "cell_type": "code",
      "source": [
        "import numpy as np\n",
        "def compute_non_professional_votes(beginner_votes_array,other_votes_array):\n",
        "    output = np.empty(len(beginner_votes_array))\n",
        "    for i in range(len(beginner_votes_array)):\n",
        "        output[i]=beginner_votes_array[i]+other_votes_array[i]\n",
        "    return output\n",
        "\n",
        "%timeit compute_non_professional_votes(beginner_votes_array,other_votes_array)\n",
        "%timeit (beginner_votes_array+other_votes_array)"
      ],
      "metadata": {
        "id": "6Er4VanutbYr"
      },
      "execution_count": null,
      "outputs": []
    },
    {
      "cell_type": "code",
      "source": [
        "import numpy as np\n",
        "def compute_non_professional_votes(beginner_votes_array,other_votes_array):\n",
        "  output=np.empty(len(beginner_votes_array))\n",
        "  for i in range(len(beginner_votes_array)):#0,1,2,3,4......22 23 is the length of the array which is not included\n",
        "    output[i]=beginner_votes_array[i]+other_votes_array[i]\n",
        "  return output\n",
        "%timeit compute_non_professional_votes(beginner_votes_array,other_votes_array)\n",
        "%timeit (beginner_votes_array+other_votes_array)"
      ],
      "metadata": {
        "colab": {
          "base_uri": "https://localhost:8080/"
        },
        "id": "yWnZlgnLt6B2",
        "outputId": "9e1427b1-210f-4b86-f5b3-4356cdfa62d2"
      },
      "execution_count": null,
      "outputs": [
        {
          "output_type": "stream",
          "name": "stdout",
          "text": [
            "12.6 µs ± 3.72 µs per loop (mean ± std. dev. of 7 runs, 100000 loops each)\n",
            "689 ns ± 203 ns per loop (mean ± std. dev. of 7 runs, 1000000 loops each)\n"
          ]
        }
      ]
    },
    {
      "cell_type": "code",
      "source": [
        "#vectorization in umpy arrays and it is implemented in numpy arrays suing Ufuncs(Universal fucntions)\n",
        "print(\"Original array:\",beginner_votes_array)\n",
        "print(\"\\n\\n\")\n",
        "print(\"Adding 2  to all elements:\",beginner_votes_array+2)\n",
        "print(\"\\n\\n\")\n",
        "print(\"Divinding all elements by 2(floor)\",beginner_votes_array//2)"
      ],
      "metadata": {
        "colab": {
          "base_uri": "https://localhost:8080/"
        },
        "id": "cZEgCw0ouzQD",
        "outputId": "f09e0967-4bf2-4f70-b94e-5d981a191c42"
      },
      "execution_count": null,
      "outputs": [
        {
          "output_type": "stream",
          "name": "stdout",
          "text": [
            "Original array: [654 628 420 652 247 492 487 498 262  67 125  63  76 123  22  72  55 132\n",
            "  53  53   0  20 370]\n",
            "\n",
            "\n",
            "\n",
            "Adding 2  to all elements: [656 630 422 654 249 494 489 500 264  69 127  65  78 125  24  74  57 134\n",
            "  55  55   2  22 372]\n",
            "\n",
            "\n",
            "\n",
            "Divinding all elements by 2(floor) [327 314 210 326 123 246 243 249 131  33  62  31  38  61  11  36  27  66\n",
            "  26  26   0  10 185]\n"
          ]
        }
      ]
    },
    {
      "cell_type": "code",
      "source": [
        "print(\"Adding 2  to all elements:\",np.add(beginner_votes_array,2))"
      ],
      "metadata": {
        "colab": {
          "base_uri": "https://localhost:8080/"
        },
        "id": "4n2DJk6IvVHD",
        "outputId": "bae31e29-13ca-4a91-96f1-c5e77c933f8b"
      },
      "execution_count": null,
      "outputs": [
        {
          "output_type": "stream",
          "name": "stdout",
          "text": [
            "Adding 2  to all elements: [656 630 422 654 249 494 489 500 264  69 127  65  78 125  24  74  57 134\n",
            "  55  55   2  22 372]\n"
          ]
        }
      ]
    },
    {
      "cell_type": "code",
      "source": [
        "non_professional_votes_array=beginner_votes_array+other_votes_array\n",
        "non_professional_votes_array_average=round(np.mean(non_professional_votes_array),2)\n",
        "print(\"Non professional votes array:\",non_professional_votes_array)\n",
        "print(\"Non professional votes array average\",non_professional_votes_array_average)"
      ],
      "metadata": {
        "colab": {
          "base_uri": "https://localhost:8080/"
        },
        "id": "hKW-wNBIvutt",
        "outputId": "963b10ee-6d3c-43e1-fc52-284f73b81208"
      },
      "execution_count": null,
      "outputs": [
        {
          "output_type": "stream",
          "name": "stdout",
          "text": [
            "Non professional votes array: [1839 1114 1041 1518  640  910  879  828  658  251  292  200  202  313\n",
            "   88  151  149  201  131  123   31   50 1084]\n",
            "Non professional votes array average 551.87\n"
          ]
        }
      ]
    },
    {
      "cell_type": "code",
      "source": [
        "non_professional_votes_array<non_professional_votes_array_average"
      ],
      "metadata": {
        "colab": {
          "base_uri": "https://localhost:8080/"
        },
        "id": "3mGUUAZlwWxv",
        "outputId": "3c16e826-b28f-4211-8c09-e64315d19540"
      },
      "execution_count": null,
      "outputs": [
        {
          "output_type": "execute_result",
          "data": {
            "text/plain": [
              "array([False, False, False, False, False, False, False, False, False,\n",
              "        True,  True,  True,  True,  True,  True,  True,  True,  True,\n",
              "        True,  True,  True,  True, False])"
            ]
          },
          "metadata": {},
          "execution_count": 53
        }
      ]
    },
    {
      "cell_type": "code",
      "source": [
        "np.sum(non_professional_votes_array<non_professional_votes_array_average)"
      ],
      "metadata": {
        "colab": {
          "base_uri": "https://localhost:8080/"
        },
        "id": "6OzRDFXPwroq",
        "outputId": "0dcbdd4b-26e4-4b37-d9c2-f13c66dfdd84"
      },
      "execution_count": null,
      "outputs": [
        {
          "output_type": "execute_result",
          "data": {
            "text/plain": [
              "13"
            ]
          },
          "metadata": {},
          "execution_count": 54
        }
      ]
    },
    {
      "cell_type": "code",
      "source": [
        "print(\"Dominant cloud platforms:\",cloud_2023_array[non_professional_votes_array>1000])"
      ],
      "metadata": {
        "colab": {
          "base_uri": "https://localhost:8080/"
        },
        "id": "1vvXv9hTw93z",
        "outputId": "f14bd3b6-1cbe-45c4-af3d-e690b56c37d1"
      },
      "execution_count": null,
      "outputs": [
        {
          "output_type": "stream",
          "name": "stdout",
          "text": [
            "Dominant cloud platforms: ['Amazon Web Services (AWS)' 'Firebase' 'Cloudflare' 'Google Cloud'\n",
            " 'Microsoft Azure']\n"
          ]
        }
      ]
    },
    {
      "cell_type": "code",
      "source": [
        "print(\"Are all cloud platforms greater than 1000 votes?\",np.all(non_professional_votes_array>1000))"
      ],
      "metadata": {
        "colab": {
          "base_uri": "https://localhost:8080/"
        },
        "id": "ype7f5wGxMbj",
        "outputId": "9a4189b0-8507-49d2-ec28-4725d3abbe77"
      },
      "execution_count": null,
      "outputs": [
        {
          "output_type": "stream",
          "name": "stdout",
          "text": [
            "Are all cloud platforms greater than 1000 votes? False\n"
          ]
        }
      ]
    },
    {
      "cell_type": "code",
      "source": [
        "print(\"Is there any cloud platform with more than 1000 votes?\",np.any(non_professional_votes_array>1000))# expression that returns a true or a false value,boolean masking in numpy"
      ],
      "metadata": {
        "colab": {
          "base_uri": "https://localhost:8080/"
        },
        "id": "fWdW3n4DxrIS",
        "outputId": "f8cf05da-6c9c-45b4-f0d3-c4cedc58797e"
      },
      "execution_count": null,
      "outputs": [
        {
          "output_type": "stream",
          "name": "stdout",
          "text": [
            "Is there any cloud platform with more than 1000 votes? True\n"
          ]
        }
      ]
    },
    {
      "cell_type": "code",
      "source": [
        "#concatenation\n",
        "new_cloud_platforms=np.array([\"ZohocorpCloud\",\"MyCloudPlatform\"])\n",
        "updated_cloud_2023=np.concatenate([cloud_2023_array,new_cloud_platforms])\n",
        "updated_cloud_2023"
      ],
      "metadata": {
        "colab": {
          "base_uri": "https://localhost:8080/"
        },
        "id": "4BmKZq7Hx2tc",
        "outputId": "25aff70f-8c3f-42c7-880d-fba3e5f177c9"
      },
      "execution_count": null,
      "outputs": [
        {
          "output_type": "execute_result",
          "data": {
            "text/plain": [
              "array(['Amazon Web Services (AWS)', 'Firebase', 'Cloudflare',\n",
              "       'Google Cloud', 'Digital Ocean', 'Heroku', 'Vercel', 'Netlify',\n",
              "       'VMware', 'Hetzner', 'Linode, now Akamai', 'Managed Hosting',\n",
              "       'OVH', 'Oracle Cloud Infrastructure (OCI)', 'OpenShift', 'Fly.io',\n",
              "       'Vultr', 'Render', 'OpenStack', 'IBM Cloud Or Watson', 'Scaleway',\n",
              "       'Colocation', 'Microsoft Azure', 'ZohocorpCloud',\n",
              "       'MyCloudPlatform'], dtype='<U33')"
            ]
          },
          "metadata": {},
          "execution_count": 60
        }
      ]
    },
    {
      "cell_type": "code",
      "source": [
        "print(\"Total votes array:\",total_votes_array)\n",
        "print(\"\\n\\n\")\n",
        "print(\"Professional programmers votes\",professional_votes_array)\n",
        "print(\"\\n\\n\")\n",
        "print(\"Beginner programmers votes:\",beginner_votes_array)\n",
        "print(\"\\n\\n\")\n",
        "print(\"Other programmers votes:\",other_votes_array)"
      ],
      "metadata": {
        "colab": {
          "base_uri": "https://localhost:8080/"
        },
        "id": "lZH0vuIQylTh",
        "outputId": "0d2ba454-d2d0-49b4-c489-aa3794bcdbe3"
      },
      "execution_count": null,
      "outputs": [
        {
          "output_type": "stream",
          "name": "stdout",
          "text": [
            "Total votes array: [33818 10761 10599 16592  9299  8358  7431  6228  4964  3069  2755  2379\n",
            "  2378  1810  1671  1649  1357  1287  1076   801   628     7 18105]\n",
            "\n",
            "\n",
            "\n",
            "Professional programmers votes [29479  8550  8326 13304  7838  6535  5727  4708  3584  2465  2104  1889\n",
            "  1912  1146  1432  1342  1021   920   802   571   520   385 15441]\n",
            "\n",
            "\n",
            "\n",
            "Beginner programmers votes: [654 628 420 652 247 492 487 498 262  67 125  63  76 123  22  72  55 132\n",
            "  53  53   0  20 370]\n",
            "\n",
            "\n",
            "\n",
            "Other programmers votes: [1185  486  621  866  393  418  392  330  396  184  167  137  126  190\n",
            "   66   79   94   69   78   70   31   30  714]\n"
          ]
        }
      ]
    },
    {
      "cell_type": "code",
      "source": [
        "print(\"total number of voters in stack overflow:\",np.add.reduce(total_votes_array)) #array -> single number"
      ],
      "metadata": {
        "colab": {
          "base_uri": "https://localhost:8080/"
        },
        "id": "sAeLnfPKywC3",
        "outputId": "264d95d6-4e41-48d8-e90e-15f2a1ec8b6c"
      },
      "execution_count": null,
      "outputs": [
        {
          "output_type": "stream",
          "name": "stdout",
          "text": [
            "total number of voters in stack overflow: 147022\n"
          ]
        }
      ]
    },
    {
      "cell_type": "code",
      "source": [
        "print(\"total number of professionalvoters in stack overflow:\",np.add.reduce(total_votes_array))\n",
        "print(\"total number of  beginnervoters in stack overflow:\",np.add.reduce(beginner_votes_array))\n",
        "print(\"total number of  other voters in stack overflow:\",np.add.reduce(other_votes_array))"
      ],
      "metadata": {
        "colab": {
          "base_uri": "https://localhost:8080/"
        },
        "id": "hCW8PNWfzIHz",
        "outputId": "de4f1493-c39b-4f58-ea98-bbecc302f950"
      },
      "execution_count": null,
      "outputs": [
        {
          "output_type": "stream",
          "name": "stdout",
          "text": [
            "total number of professionalvoters in stack overflow: 147022\n",
            "total number of  beginnervoters in stack overflow: 5571\n",
            "total number of  other voters in stack overflow: 7122\n"
          ]
        }
      ]
    },
    {
      "cell_type": "code",
      "source": [
        "minimum_votes_number=np.min(total_votes_array)\n",
        "maximum_votes_number=np.max(total_votes_array)\n",
        "print(minimum_votes_number,maximum_votes_number)\n",
        "maximum_votes_index=np.argmax(total_votes_array)\n",
        "minimum_votes_index=np.argmin(total_votes_array)\n",
        "print(maximum_votes_index,minimum_votes_index)\n",
        "print(f\"{cloud_2023_array[maximum_votes_index]} is the cloud platform with the maxmimum number of votes of {maximum_votes_number}\")\n",
        "print(f\"{cloud_2023_array[minimum_votes_index]} is the cloud platform with the minimum number of votes of {minimum_votes_number}\")"
      ],
      "metadata": {
        "colab": {
          "base_uri": "https://localhost:8080/"
        },
        "id": "aEoAlxqGzSAz",
        "outputId": "e73bd979-0a4c-44df-95c9-8fde0513ff6c"
      },
      "execution_count": null,
      "outputs": [
        {
          "output_type": "stream",
          "name": "stdout",
          "text": [
            "7 33818\n",
            "0 21\n",
            "Amazon Web Services (AWS) is the cloud platform with the maxmimum number of votes of 33818\n",
            "Colocation is the cloud platform with the minimum number of votes of 7\n"
          ]
        }
      ]
    },
    {
      "cell_type": "code",
      "source": [
        "total_votes_sorted=np.sort(total_votes_array)\n",
        "total_votes_sorted"
      ],
      "metadata": {
        "colab": {
          "base_uri": "https://localhost:8080/"
        },
        "id": "r1nUBHZIzi28",
        "outputId": "7c84bdb2-12a9-44db-d1c2-f1a91b4f1ba2"
      },
      "execution_count": null,
      "outputs": [
        {
          "output_type": "execute_result",
          "data": {
            "text/plain": [
              "array([    7,   628,   801,  1076,  1287,  1357,  1649,  1671,  1810,\n",
              "        2378,  2379,  2755,  3069,  4964,  6228,  7431,  8358,  9299,\n",
              "       10599, 10761, 16592, 18105, 33818])"
            ]
          },
          "metadata": {},
          "execution_count": 67
        }
      ]
    },
    {
      "cell_type": "code",
      "source": [
        "sorted_indices_total=np.argsort(total_votes_array)\n",
        "print(\"indexes after elements after sorting:\")\n",
        "print(sorted_indices_total)\n",
        "descending_indexes_total=sorted_indices_total[::-1]\n",
        "print(descending_indexes_total)\n",
        "cloud_2023_sorted=[cloud_2023[i] for i in descending_indexes_total]#cloud_2023[0],cloud_2023[22],cloud_2023[3].......cloud_2023[21]\n",
        "cloud_2023_sorted"
      ],
      "metadata": {
        "colab": {
          "base_uri": "https://localhost:8080/"
        },
        "id": "McML8JY00ulJ",
        "outputId": "920c041f-6b3e-4e81-efe0-01fffa5b4cc3"
      },
      "execution_count": null,
      "outputs": [
        {
          "output_type": "stream",
          "name": "stdout",
          "text": [
            "indexes after elements after sorting:\n",
            "[21 20 19 18 17 16 15 14 13 12 11 10  9  8  7  6  5  4  2  1  3 22  0]\n",
            "[ 0 22  3  1  2  4  5  6  7  8  9 10 11 12 13 14 15 16 17 18 19 20 21]\n"
          ]
        },
        {
          "output_type": "execute_result",
          "data": {
            "text/plain": [
              "['Amazon Web Services (AWS)',\n",
              " 'Microsoft Azure',\n",
              " 'Google Cloud',\n",
              " 'Firebase',\n",
              " 'Cloudflare',\n",
              " 'Digital Ocean',\n",
              " 'Heroku',\n",
              " 'Vercel',\n",
              " 'Netlify',\n",
              " 'VMware',\n",
              " 'Hetzner',\n",
              " 'Linode, now Akamai',\n",
              " 'Managed Hosting',\n",
              " 'OVH',\n",
              " 'Oracle Cloud Infrastructure (OCI)',\n",
              " 'OpenShift',\n",
              " 'Fly.io',\n",
              " 'Vultr',\n",
              " 'Render',\n",
              " 'OpenStack',\n",
              " 'IBM Cloud Or Watson',\n",
              " 'Scaleway',\n",
              " 'Colocation']"
            ]
          },
          "metadata": {},
          "execution_count": 70
        }
      ]
    },
    {
      "cell_type": "code",
      "source": [
        "sorted_indices_beginner=np.argsort(beginner_votes_array)\n",
        "print(\"indexes after elements after sorting:\")\n",
        "print(sorted_indices_beginner)\n",
        "descending_indexes_beginner=sorted_indices_beginner[::-1]\n",
        "print(descending_indexes_beginner)\n",
        "cloud_2023_sorted_beginner=[cloud_2023[i] for i in descending_indexes_beginner]#cloud_2023[0],cloud_2023[22],cloud_2023[3].......cloud_2023[21]\n",
        "print(cloud_2023_sorted)\n",
        "print(\"\\n\\n\")\n",
        "print(cloud_2023_sorted_beginner)"
      ],
      "metadata": {
        "colab": {
          "base_uri": "https://localhost:8080/"
        },
        "id": "eihcAWoU0-XD",
        "outputId": "6c8e632b-abc0-43c5-8e48-6d29a093e97b"
      },
      "execution_count": null,
      "outputs": [
        {
          "output_type": "stream",
          "name": "stdout",
          "text": [
            "indexes after elements after sorting:\n",
            "[20 21 14 19 18 16 11  9 15 12 13 10 17  4  8 22  2  6  5  7  1  3  0]\n",
            "[ 0  3  1  7  5  6  2 22  8  4 17 10 13 12 15  9 11 16 18 19 14 21 20]\n",
            "['Amazon Web Services (AWS)', 'Microsoft Azure', 'Google Cloud', 'Firebase', 'Cloudflare', 'Digital Ocean', 'Heroku', 'Vercel', 'Netlify', 'VMware', 'Hetzner', 'Linode, now Akamai', 'Managed Hosting', 'OVH', 'Oracle Cloud Infrastructure (OCI)', 'OpenShift', 'Fly.io', 'Vultr', 'Render', 'OpenStack', 'IBM Cloud Or Watson', 'Scaleway', 'Colocation']\n",
            "\n",
            "\n",
            "\n",
            "['Amazon Web Services (AWS)', 'Google Cloud', 'Firebase', 'Netlify', 'Heroku', 'Vercel', 'Cloudflare', 'Microsoft Azure', 'VMware', 'Digital Ocean', 'Render', 'Linode, now Akamai', 'Oracle Cloud Infrastructure (OCI)', 'OVH', 'Fly.io', 'Hetzner', 'Managed Hosting', 'Vultr', 'OpenStack', 'IBM Cloud Or Watson', 'OpenShift', 'Colocation', 'Scaleway']\n"
          ]
        }
      ]
    },
    {
      "cell_type": "code",
      "source": [
        "partial_sort_indexes=np.argpartition(total_votes_array,4)\n",
        "print(partial_sort_indexes)# bottom 4cloud platform\n",
        "cloud_2023_partially_sorted=[[cloud_2023[i] for i in partial_sort_indexes[:4]]]\n",
        "cloud_2023_partially_sorted"
      ],
      "metadata": {
        "colab": {
          "base_uri": "https://localhost:8080/"
        },
        "id": "J9E4fk5g2k4X",
        "outputId": "febae07e-ce81-4f98-8c2b-431dcf2136e8"
      },
      "execution_count": null,
      "outputs": [
        {
          "output_type": "stream",
          "name": "stdout",
          "text": [
            "[21 20 19 18 17  5  6  7  8 10 11  4 12 13 14 15 16  9  2  3  1 22  0]\n"
          ]
        },
        {
          "output_type": "execute_result",
          "data": {
            "text/plain": [
              "[['Colocation', 'Scaleway', 'IBM Cloud Or Watson', 'OpenStack']]"
            ]
          },
          "metadata": {},
          "execution_count": 76
        }
      ]
    }
  ]
}